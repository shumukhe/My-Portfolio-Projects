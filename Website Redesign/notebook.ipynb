{
 "cells": [
  {
   "cell_type": "markdown",
   "id": "3bef7acb-5b00-4282-8c3e-1aa34bf4b7df",
   "metadata": {},
   "source": [
    "# 1. Designing the Experiment\n",
    "In order to arrive to a randomness-free conclusion, the following must be set:\n",
    "\n",
    "- Null Hypothesis: The conversion rate of (Var 1: Var 2: Var 3) is the same as the conversion rate of the control group\n",
    "- Alternative Hypothesis: The conversion rate of (Var 1: Var 2: Var 3) is better or worse than the conversion rate of the control group\n",
    "- Confidence level: 95%; Alpha: 0.05\n",
    "- Hypothesis Test: Two-Tailed Proportion\n",
    "- Approach: P-value\n"
   ]
  },
  {
   "cell_type": "markdown",
   "id": "6ebd1bef-f895-482b-9645-fb5e36547846",
   "metadata": {
    "tags": []
   },
   "source": [
    "# 2. Preparing the Data\n",
    "\n",
    " Before analysing the data, the following steps must be done:\n",
    "- Load the necessary imports\n",
    "- Read the given data\n",
    "- Describe the data\n",
    "- Check for inconsistent data"
   ]
  },
  {
   "cell_type": "code",
   "execution_count": 1,
   "id": "40251159-3eea-47f8-bfb4-09e38d5ced65",
   "metadata": {},
   "outputs": [
    {
     "data": {
      "text/html": [
       "<div>\n",
       "<style scoped>\n",
       "    .dataframe tbody tr th:only-of-type {\n",
       "        vertical-align: middle;\n",
       "    }\n",
       "\n",
       "    .dataframe tbody tr th {\n",
       "        vertical-align: top;\n",
       "    }\n",
       "\n",
       "    .dataframe thead th {\n",
       "        text-align: right;\n",
       "    }\n",
       "</style>\n",
       "<table border=\"1\" class=\"dataframe\">\n",
       "  <thead>\n",
       "    <tr style=\"text-align: right;\">\n",
       "      <th></th>\n",
       "      <th>treatment</th>\n",
       "      <th>new_images</th>\n",
       "      <th>converted</th>\n",
       "    </tr>\n",
       "  </thead>\n",
       "  <tbody>\n",
       "    <tr>\n",
       "      <th>0</th>\n",
       "      <td>yes</td>\n",
       "      <td>yes</td>\n",
       "      <td>0</td>\n",
       "    </tr>\n",
       "    <tr>\n",
       "      <th>1</th>\n",
       "      <td>yes</td>\n",
       "      <td>yes</td>\n",
       "      <td>0</td>\n",
       "    </tr>\n",
       "    <tr>\n",
       "      <th>2</th>\n",
       "      <td>yes</td>\n",
       "      <td>yes</td>\n",
       "      <td>0</td>\n",
       "    </tr>\n",
       "    <tr>\n",
       "      <th>3</th>\n",
       "      <td>yes</td>\n",
       "      <td>no</td>\n",
       "      <td>0</td>\n",
       "    </tr>\n",
       "    <tr>\n",
       "      <th>4</th>\n",
       "      <td>no</td>\n",
       "      <td>yes</td>\n",
       "      <td>0</td>\n",
       "    </tr>\n",
       "  </tbody>\n",
       "</table>\n",
       "</div>"
      ],
      "text/plain": [
       "  treatment new_images  converted\n",
       "0       yes        yes          0\n",
       "1       yes        yes          0\n",
       "2       yes        yes          0\n",
       "3       yes         no          0\n",
       "4        no        yes          0"
      ]
     },
     "execution_count": 1,
     "metadata": {},
     "output_type": "execute_result"
    }
   ],
   "source": [
    "#Loading the necessary imports\n",
    "\n",
    "import pandas as pd\n",
    "import numpy as np\n",
    "import matplotlib.pyplot as plt\n",
    "import seaborn as sns\n",
    "import scipy.stats as stats\n",
    "from statsmodels.stats.proportion import proportions_ztest, proportion_confint\n",
    "\n",
    "#Reading the csv file as dataframe\n",
    "df = pd.read_csv('./data/redesign (1).csv')\n",
    "df.head(n=5)\n",
    "#print(df.tail()); print(df.info()); print(df.describe())"
   ]
  },
  {
   "cell_type": "code",
   "execution_count": 2,
   "id": "9067c52f-b0e5-4b4a-8789-7da58e807bc8",
   "metadata": {
    "outputsMetadata": {
     "0": {
      "height": 616,
      "type": "stream"
     }
    }
   },
   "outputs": [
    {
     "name": "stdout",
     "output_type": "stream",
     "text": [
      "<class 'pandas.core.frame.DataFrame'>\n",
      "RangeIndex: 40484 entries, 0 to 40483\n",
      "Data columns (total 3 columns):\n",
      " #   Column      Non-Null Count  Dtype \n",
      "---  ------      --------------  ----- \n",
      " 0   treatment   40484 non-null  object\n",
      " 1   new_images  40484 non-null  object\n",
      " 2   converted   40484 non-null  int64 \n",
      "dtypes: int64(1), object(2)\n",
      "memory usage: 949.0+ KB\n",
      "None\n",
      "          converted\n",
      "count  40484.000000\n",
      "mean       0.113353\n",
      "std        0.317028\n",
      "min        0.000000\n",
      "25%        0.000000\n",
      "50%        0.000000\n",
      "75%        0.000000\n",
      "max        1.000000\n"
     ]
    }
   ],
   "source": [
    "print(df.info()); print(df.describe())"
   ]
  },
  {
   "cell_type": "code",
   "execution_count": 3,
   "id": "6a38d20e-aece-4dd3-84b3-365b3b687799",
   "metadata": {},
   "outputs": [
    {
     "data": {
      "text/html": [
       "<div>\n",
       "<style scoped>\n",
       "    .dataframe tbody tr th:only-of-type {\n",
       "        vertical-align: middle;\n",
       "    }\n",
       "\n",
       "    .dataframe tbody tr th {\n",
       "        vertical-align: top;\n",
       "    }\n",
       "\n",
       "    .dataframe thead th {\n",
       "        text-align: right;\n",
       "    }\n",
       "</style>\n",
       "<table border=\"1\" class=\"dataframe\">\n",
       "  <thead>\n",
       "    <tr style=\"text-align: right;\">\n",
       "      <th>new_images</th>\n",
       "      <th>no</th>\n",
       "      <th>yes</th>\n",
       "    </tr>\n",
       "    <tr>\n",
       "      <th>treatment</th>\n",
       "      <th></th>\n",
       "      <th></th>\n",
       "    </tr>\n",
       "  </thead>\n",
       "  <tbody>\n",
       "    <tr>\n",
       "      <th>no</th>\n",
       "      <td>10121</td>\n",
       "      <td>10121</td>\n",
       "    </tr>\n",
       "    <tr>\n",
       "      <th>yes</th>\n",
       "      <td>10121</td>\n",
       "      <td>10121</td>\n",
       "    </tr>\n",
       "  </tbody>\n",
       "</table>\n",
       "</div>"
      ],
      "text/plain": [
       "new_images     no    yes\n",
       "treatment               \n",
       "no          10121  10121\n",
       "yes         10121  10121"
      ]
     },
     "execution_count": 3,
     "metadata": {},
     "output_type": "execute_result"
    }
   ],
   "source": [
    "pd.crosstab(df['treatment'],df['new_images'])"
   ]
  },
  {
   "cell_type": "markdown",
   "id": "bf3c4c61-1b68-4de8-9384-8e343be4ad03",
   "metadata": {},
   "source": [
    "Upon checking the dataframe, the following information were observed:\n",
    "- The dataframe consists of three columns namely: treatment, new_images, and converted\n",
    "- Both the values of treatment and new_images columns are of datatype: object\n",
    "- The values of the converted column is made up of binary data of datatype: int64\n",
    "- The total count of the dataframe is 40,484 observations\n",
    "- The crosstab shows that the variations and the control group have equal numbers of observations: 10,121"
   ]
  },
  {
   "cell_type": "markdown",
   "id": "2415d1cf-8d90-4e4b-ae05-5ef6a7adc1f8",
   "metadata": {},
   "source": [
    "Before analysing the data, it must be neat and clean. Errors must be checked before manipulating the data."
   ]
  },
  {
   "cell_type": "code",
   "execution_count": 4,
   "id": "3c936f9e-a08a-4cb6-9be7-7e4db3630ba4",
   "metadata": {
    "outputsMetadata": {
     "0": {
      "height": 374,
      "type": "stream"
     }
    }
   },
   "outputs": [
    {
     "name": "stdout",
     "output_type": "stream",
     "text": [
      "treatment\n",
      "yes    20242\n",
      "no     20242\n",
      "Name: count, dtype: int64\n",
      "new_images\n",
      "yes    20242\n",
      "no     20242\n",
      "Name: count, dtype: int64\n",
      "converted\n",
      "0    35895\n",
      "1     4589\n",
      "Name: count, dtype: int64\n"
     ]
    }
   ],
   "source": [
    "print(df['treatment'].value_counts())\n",
    "print(df['new_images'].value_counts())\n",
    "print(df['converted'].value_counts())"
   ]
  },
  {
   "cell_type": "markdown",
   "id": "e7a1eea7-de90-48ad-817f-c2a794dec212",
   "metadata": {},
   "source": [
    "The data looks neat and clean! Next step is to prepare the data for further analysis."
   ]
  },
  {
   "cell_type": "markdown",
   "id": "01f3e1e3-e35d-4bb2-b5ce-2f058e0e230d",
   "metadata": {},
   "source": [
    "From the initial inspection of the given data, it requires segregation for each variation and the control group. Once done, the data will be more orderly and organized, and easier to process for A/B Testing."
   ]
  },
  {
   "cell_type": "code",
   "execution_count": 5,
   "id": "c7b217d9-6173-4c94-8d48-7569ab7b044f",
   "metadata": {
    "outputsMetadata": {
     "0": {
      "height": 248,
      "type": "stream"
     }
    }
   },
   "outputs": [
    {
     "name": "stderr",
     "output_type": "stream",
     "text": [
      "C:\\Users\\User\\AppData\\Local\\Temp\\ipykernel_4008\\3646494894.py:5: FutureWarning: Setting an item of incompatible dtype is deprecated and will raise in a future error of pandas. Value 'Var 1' has dtype incompatible with int64, please explicitly cast to a compatible dtype first.\n",
      "  df.iloc[row, 3] = 'Var 1'\n"
     ]
    },
    {
     "name": "stdout",
     "output_type": "stream",
     "text": [
      "  treatment new_images  converted variation\n",
      "0       yes        yes          0     Var 1\n",
      "1       yes        yes          0     Var 1\n",
      "2       yes        yes          0     Var 1\n",
      "3       yes         no          0     Var 2\n",
      "4        no        yes          0     Var 3\n"
     ]
    }
   ],
   "source": [
    "df['variation'] = 0\n",
    "\n",
    "for row in df.index:\n",
    "    if df.iloc[row,0] == 'yes' and df.iloc[row,1] == 'yes':\n",
    "        df.iloc[row, 3] = 'Var 1'\n",
    "    elif df.iloc[row,0] == 'yes' and df.iloc[row,1] == 'no':\n",
    "        df.iloc[row, 3] = 'Var 2'\n",
    "    elif df.iloc[row,0] == 'no' and df.iloc[row,1] == 'yes':\n",
    "        df.iloc[row, 3] = 'Var 3'\n",
    "    else:\n",
    "        df.iloc[row, 3] = 'Control'\n",
    "           \n",
    "print(df.head())"
   ]
  },
  {
   "cell_type": "markdown",
   "id": "a832257c-c0eb-4502-ba94-d06ca712f6f5",
   "metadata": {},
   "source": [
    "What was done is the creation of a new column named 'variation' which contains the subgroups as values defined:\n",
    "\n",
    "- Var 1 - these are observations containing the data from users who have seen the new set of images and the new design of the landing page.\n",
    "- Var 2 - these are observations containing the data from users who have seen the old set of images and the new design of the landing page.\n",
    "- Var 3 - these are observations containing the data from users who have seen the new set of images and the old design of the landing page.\n",
    "- Control - these are observations containing the data from users who have seen the old set of images and the old design of the landing page. This category is set as the control group.\n",
    "\n",
    "In order to simplify the data, a subset of the modified dataframe consisting of the columns 'variation' and 'converted' must be created. The data will be split into 4 subgroups."
   ]
  },
  {
   "cell_type": "code",
   "execution_count": 6,
   "id": "aa124343-db63-4a2d-a8a7-6c1fa1ae30b7",
   "metadata": {},
   "outputs": [
    {
     "data": {
      "text/html": [
       "<div>\n",
       "<style scoped>\n",
       "    .dataframe tbody tr th:only-of-type {\n",
       "        vertical-align: middle;\n",
       "    }\n",
       "\n",
       "    .dataframe tbody tr th {\n",
       "        vertical-align: top;\n",
       "    }\n",
       "\n",
       "    .dataframe thead th {\n",
       "        text-align: right;\n",
       "    }\n",
       "</style>\n",
       "<table border=\"1\" class=\"dataframe\">\n",
       "  <thead>\n",
       "    <tr style=\"text-align: right;\">\n",
       "      <th></th>\n",
       "      <th>variation</th>\n",
       "      <th>converted</th>\n",
       "    </tr>\n",
       "  </thead>\n",
       "  <tbody>\n",
       "    <tr>\n",
       "      <th>0</th>\n",
       "      <td>Var 1</td>\n",
       "      <td>0</td>\n",
       "    </tr>\n",
       "    <tr>\n",
       "      <th>1</th>\n",
       "      <td>Var 1</td>\n",
       "      <td>0</td>\n",
       "    </tr>\n",
       "    <tr>\n",
       "      <th>2</th>\n",
       "      <td>Var 1</td>\n",
       "      <td>0</td>\n",
       "    </tr>\n",
       "    <tr>\n",
       "      <th>11</th>\n",
       "      <td>Var 1</td>\n",
       "      <td>0</td>\n",
       "    </tr>\n",
       "    <tr>\n",
       "      <th>15</th>\n",
       "      <td>Var 1</td>\n",
       "      <td>0</td>\n",
       "    </tr>\n",
       "  </tbody>\n",
       "</table>\n",
       "</div>"
      ],
      "text/plain": [
       "   variation  converted\n",
       "0      Var 1          0\n",
       "1      Var 1          0\n",
       "2      Var 1          0\n",
       "11     Var 1          0\n",
       "15     Var 1          0"
      ]
     },
     "execution_count": 6,
     "metadata": {},
     "output_type": "execute_result"
    }
   ],
   "source": [
    "#Subsetting variation and converted columns\n",
    "simplified_df = df[['variation','converted']]\n",
    "\n",
    "#Splitting subset into 4 subgroups\n",
    "var1_df = simplified_df[simplified_df['variation'] == 'Var 1']\n",
    "var2_df = simplified_df[simplified_df['variation'] == 'Var 2']\n",
    "var3_df = simplified_df[simplified_df['variation'] == 'Var 3']\n",
    "control_df = simplified_df[simplified_df['variation'] == 'Control']\n",
    "\n",
    "var1_df.head()"
   ]
  },
  {
   "cell_type": "code",
   "execution_count": 7,
   "id": "f869d58d-1e17-4c55-afea-ce63c5e73b27",
   "metadata": {},
   "outputs": [
    {
     "data": {
      "text/html": [
       "<div>\n",
       "<style scoped>\n",
       "    .dataframe tbody tr th:only-of-type {\n",
       "        vertical-align: middle;\n",
       "    }\n",
       "\n",
       "    .dataframe tbody tr th {\n",
       "        vertical-align: top;\n",
       "    }\n",
       "\n",
       "    .dataframe thead th {\n",
       "        text-align: right;\n",
       "    }\n",
       "</style>\n",
       "<table border=\"1\" class=\"dataframe\">\n",
       "  <thead>\n",
       "    <tr style=\"text-align: right;\">\n",
       "      <th></th>\n",
       "      <th>variation</th>\n",
       "      <th>converted</th>\n",
       "    </tr>\n",
       "  </thead>\n",
       "  <tbody>\n",
       "    <tr>\n",
       "      <th>3</th>\n",
       "      <td>Var 2</td>\n",
       "      <td>0</td>\n",
       "    </tr>\n",
       "    <tr>\n",
       "      <th>5</th>\n",
       "      <td>Var 2</td>\n",
       "      <td>0</td>\n",
       "    </tr>\n",
       "    <tr>\n",
       "      <th>12</th>\n",
       "      <td>Var 2</td>\n",
       "      <td>0</td>\n",
       "    </tr>\n",
       "    <tr>\n",
       "      <th>13</th>\n",
       "      <td>Var 2</td>\n",
       "      <td>0</td>\n",
       "    </tr>\n",
       "    <tr>\n",
       "      <th>17</th>\n",
       "      <td>Var 2</td>\n",
       "      <td>1</td>\n",
       "    </tr>\n",
       "  </tbody>\n",
       "</table>\n",
       "</div>"
      ],
      "text/plain": [
       "   variation  converted\n",
       "3      Var 2          0\n",
       "5      Var 2          0\n",
       "12     Var 2          0\n",
       "13     Var 2          0\n",
       "17     Var 2          1"
      ]
     },
     "execution_count": 7,
     "metadata": {},
     "output_type": "execute_result"
    }
   ],
   "source": [
    "var2_df.head()"
   ]
  },
  {
   "cell_type": "code",
   "execution_count": 8,
   "id": "b02a534f-b1c2-4f77-bdb5-84524975e4ed",
   "metadata": {},
   "outputs": [
    {
     "data": {
      "text/html": [
       "<div>\n",
       "<style scoped>\n",
       "    .dataframe tbody tr th:only-of-type {\n",
       "        vertical-align: middle;\n",
       "    }\n",
       "\n",
       "    .dataframe tbody tr th {\n",
       "        vertical-align: top;\n",
       "    }\n",
       "\n",
       "    .dataframe thead th {\n",
       "        text-align: right;\n",
       "    }\n",
       "</style>\n",
       "<table border=\"1\" class=\"dataframe\">\n",
       "  <thead>\n",
       "    <tr style=\"text-align: right;\">\n",
       "      <th></th>\n",
       "      <th>variation</th>\n",
       "      <th>converted</th>\n",
       "    </tr>\n",
       "  </thead>\n",
       "  <tbody>\n",
       "    <tr>\n",
       "      <th>4</th>\n",
       "      <td>Var 3</td>\n",
       "      <td>0</td>\n",
       "    </tr>\n",
       "    <tr>\n",
       "      <th>6</th>\n",
       "      <td>Var 3</td>\n",
       "      <td>0</td>\n",
       "    </tr>\n",
       "    <tr>\n",
       "      <th>9</th>\n",
       "      <td>Var 3</td>\n",
       "      <td>0</td>\n",
       "    </tr>\n",
       "    <tr>\n",
       "      <th>10</th>\n",
       "      <td>Var 3</td>\n",
       "      <td>1</td>\n",
       "    </tr>\n",
       "    <tr>\n",
       "      <th>16</th>\n",
       "      <td>Var 3</td>\n",
       "      <td>0</td>\n",
       "    </tr>\n",
       "  </tbody>\n",
       "</table>\n",
       "</div>"
      ],
      "text/plain": [
       "   variation  converted\n",
       "4      Var 3          0\n",
       "6      Var 3          0\n",
       "9      Var 3          0\n",
       "10     Var 3          1\n",
       "16     Var 3          0"
      ]
     },
     "execution_count": 8,
     "metadata": {},
     "output_type": "execute_result"
    }
   ],
   "source": [
    "var3_df.head()"
   ]
  },
  {
   "cell_type": "markdown",
   "id": "b1934c86-ee1b-427c-9864-0e14449c51f6",
   "metadata": {},
   "source": [
    "After splitting the data into 4 subgroups, the data from each variation must be concatenated one by one along with the data from the control group."
   ]
  },
  {
   "cell_type": "code",
   "execution_count": 9,
   "id": "38f184ab-fcac-4ded-93f2-8240c02c57d1",
   "metadata": {},
   "outputs": [
    {
     "name": "stdout",
     "output_type": "stream",
     "text": [
      "variation\n",
      "Var 1      10121\n",
      "Control    10121\n",
      "Name: count, dtype: int64\n",
      "variation\n",
      "Var 2      10121\n",
      "Control    10121\n",
      "Name: count, dtype: int64\n",
      "variation\n",
      "Var 3      10121\n",
      "Control    10121\n",
      "Name: count, dtype: int64\n"
     ]
    }
   ],
   "source": [
    "ab_var1_con = pd.concat([var1_df,control_df], axis=0)\n",
    "ab_var2_con = pd.concat([var2_df,control_df], axis=0)\n",
    "ab_var3_con = pd.concat([var3_df,control_df], axis=0)\n",
    "ab_var1_con.reset_index(drop=True,inplace=True)\n",
    "ab_var2_con.reset_index(drop=True,inplace=True)\n",
    "ab_var3_con.reset_index(drop=True,inplace=True)\n",
    "\n",
    "print(ab_var1_con['variation'].value_counts())\n",
    "print(ab_var2_con['variation'].value_counts())\n",
    "print(ab_var3_con['variation'].value_counts())"
   ]
  },
  {
   "cell_type": "markdown",
   "id": "a6485186-753c-4fe6-ae73-3a39a253f485",
   "metadata": {},
   "source": [
    "# 3. Visualizing the Data\n",
    "Now that the data have been regrouped and concatenated for convenience, visualizing the data will be focused on the goal of the experiment."
   ]
  },
  {
   "cell_type": "code",
   "execution_count": 10,
   "id": "c97bc070-dce5-4e44-9867-1c4d5efa1217",
   "metadata": {},
   "outputs": [
    {
     "name": "stderr",
     "output_type": "stream",
     "text": [
      "C:\\Users\\User\\AppData\\Local\\Temp\\ipykernel_4008\\1630064828.py:8: FutureWarning: The provided callable <function mean at 0x000001627FB04860> is currently using SeriesGroupBy.mean. In a future version of pandas, the provided callable will be used directly. To keep current behavior pass the string \"mean\" instead.\n",
      "  conversion_rate_var1_con = conversion_rate_var1_con.agg([np.mean, std_p, se_p])\n",
      "C:\\Users\\User\\AppData\\Local\\Temp\\ipykernel_4008\\1630064828.py:11: FutureWarning: The provided callable <function mean at 0x000001627FB04860> is currently using SeriesGroupBy.mean. In a future version of pandas, the provided callable will be used directly. To keep current behavior pass the string \"mean\" instead.\n",
      "  conversion_rate_var2_con = conversion_rate_var2_con.agg([np.mean, std_p, se_p])\n",
      "C:\\Users\\User\\AppData\\Local\\Temp\\ipykernel_4008\\1630064828.py:14: FutureWarning: The provided callable <function mean at 0x000001627FB04860> is currently using SeriesGroupBy.mean. In a future version of pandas, the provided callable will be used directly. To keep current behavior pass the string \"mean\" instead.\n",
      "  conversion_rate_var3_con = conversion_rate_var3_con.agg([np.mean, std_p, se_p])\n"
     ]
    }
   ],
   "source": [
    "conversion_rate_var1_con = ab_var1_con.groupby('variation')['converted']\n",
    "conversion_rate_var2_con = ab_var2_con.groupby('variation')['converted']\n",
    "conversion_rate_var3_con = ab_var3_con.groupby('variation')['converted']\n",
    "\n",
    "std_p = lambda x: np.std(x, ddof=0)\n",
    "se_p = lambda x: stats.sem(x, ddof=0)\n",
    "\n",
    "conversion_rate_var1_con = conversion_rate_var1_con.agg([np.mean, std_p, se_p])\n",
    "conversion_rate_var1_con.columns = ['conversion_rate','std_deviation','std_error']\n",
    "\n",
    "conversion_rate_var2_con = conversion_rate_var2_con.agg([np.mean, std_p, se_p])\n",
    "conversion_rate_var2_con.columns = ['conversion_rate','std_deviation','std_error']\n",
    "\n",
    "conversion_rate_var3_con = conversion_rate_var3_con.agg([np.mean, std_p, se_p])\n",
    "conversion_rate_var3_con.columns = ['conversion_rate','std_deviation','std_error']"
   ]
  },
  {
   "cell_type": "code",
   "execution_count": 11,
   "id": "9de0adb5-cd3f-44bb-ab90-c70e0088b164",
   "metadata": {},
   "outputs": [
    {
     "data": {
      "text/html": [
       "<style type=\"text/css\">\n",
       "</style>\n",
       "<table id=\"T_9a31d\">\n",
       "  <thead>\n",
       "    <tr>\n",
       "      <th class=\"blank level0\" >&nbsp;</th>\n",
       "      <th id=\"T_9a31d_level0_col0\" class=\"col_heading level0 col0\" >conversion_rate</th>\n",
       "      <th id=\"T_9a31d_level0_col1\" class=\"col_heading level0 col1\" >std_deviation</th>\n",
       "      <th id=\"T_9a31d_level0_col2\" class=\"col_heading level0 col2\" >std_error</th>\n",
       "    </tr>\n",
       "    <tr>\n",
       "      <th class=\"index_name level0\" >variation</th>\n",
       "      <th class=\"blank col0\" >&nbsp;</th>\n",
       "      <th class=\"blank col1\" >&nbsp;</th>\n",
       "      <th class=\"blank col2\" >&nbsp;</th>\n",
       "    </tr>\n",
       "  </thead>\n",
       "  <tbody>\n",
       "    <tr>\n",
       "      <th id=\"T_9a31d_level0_row0\" class=\"row_heading level0 row0\" >Control</th>\n",
       "      <td id=\"T_9a31d_row0_col0\" class=\"data row0 col0\" >0.107</td>\n",
       "      <td id=\"T_9a31d_row0_col1\" class=\"data row0 col1\" >0.309</td>\n",
       "      <td id=\"T_9a31d_row0_col2\" class=\"data row0 col2\" >0.003</td>\n",
       "    </tr>\n",
       "    <tr>\n",
       "      <th id=\"T_9a31d_level0_row1\" class=\"row_heading level0 row1\" >Var 1</th>\n",
       "      <td id=\"T_9a31d_row1_col0\" class=\"data row1 col0\" >0.114</td>\n",
       "      <td id=\"T_9a31d_row1_col1\" class=\"data row1 col1\" >0.317</td>\n",
       "      <td id=\"T_9a31d_row1_col2\" class=\"data row1 col2\" >0.003</td>\n",
       "    </tr>\n",
       "  </tbody>\n",
       "</table>\n"
      ],
      "text/plain": [
       "<pandas.io.formats.style.Styler at 0x1622d131dd0>"
      ]
     },
     "execution_count": 11,
     "metadata": {},
     "output_type": "execute_result"
    }
   ],
   "source": [
    "conversion_rate_var1_con.style.format('{:.3f}')"
   ]
  },
  {
   "cell_type": "code",
   "execution_count": 12,
   "id": "8c6e6383-63c8-4c8e-93f8-be3352296390",
   "metadata": {},
   "outputs": [
    {
     "data": {
      "text/html": [
       "<style type=\"text/css\">\n",
       "</style>\n",
       "<table id=\"T_4de59\">\n",
       "  <thead>\n",
       "    <tr>\n",
       "      <th class=\"blank level0\" >&nbsp;</th>\n",
       "      <th id=\"T_4de59_level0_col0\" class=\"col_heading level0 col0\" >conversion_rate</th>\n",
       "      <th id=\"T_4de59_level0_col1\" class=\"col_heading level0 col1\" >std_deviation</th>\n",
       "      <th id=\"T_4de59_level0_col2\" class=\"col_heading level0 col2\" >std_error</th>\n",
       "    </tr>\n",
       "    <tr>\n",
       "      <th class=\"index_name level0\" >variation</th>\n",
       "      <th class=\"blank col0\" >&nbsp;</th>\n",
       "      <th class=\"blank col1\" >&nbsp;</th>\n",
       "      <th class=\"blank col2\" >&nbsp;</th>\n",
       "    </tr>\n",
       "  </thead>\n",
       "  <tbody>\n",
       "    <tr>\n",
       "      <th id=\"T_4de59_level0_row0\" class=\"row_heading level0 row0\" >Control</th>\n",
       "      <td id=\"T_4de59_row0_col0\" class=\"data row0 col0\" >0.107</td>\n",
       "      <td id=\"T_4de59_row0_col1\" class=\"data row0 col1\" >0.309</td>\n",
       "      <td id=\"T_4de59_row0_col2\" class=\"data row0 col2\" >0.003</td>\n",
       "    </tr>\n",
       "    <tr>\n",
       "      <th id=\"T_4de59_level0_row1\" class=\"row_heading level0 row1\" >Var 2</th>\n",
       "      <td id=\"T_4de59_row1_col0\" class=\"data row1 col0\" >0.120</td>\n",
       "      <td id=\"T_4de59_row1_col1\" class=\"data row1 col1\" >0.325</td>\n",
       "      <td id=\"T_4de59_row1_col2\" class=\"data row1 col2\" >0.003</td>\n",
       "    </tr>\n",
       "  </tbody>\n",
       "</table>\n"
      ],
      "text/plain": [
       "<pandas.io.formats.style.Styler at 0x1622d180cd0>"
      ]
     },
     "execution_count": 12,
     "metadata": {},
     "output_type": "execute_result"
    }
   ],
   "source": [
    "conversion_rate_var2_con.style.format('{:.3f}')"
   ]
  },
  {
   "cell_type": "code",
   "execution_count": 13,
   "id": "516ad255-81e4-4017-8f52-9c320eacf309",
   "metadata": {},
   "outputs": [
    {
     "data": {
      "text/html": [
       "<style type=\"text/css\">\n",
       "</style>\n",
       "<table id=\"T_84db5\">\n",
       "  <thead>\n",
       "    <tr>\n",
       "      <th class=\"blank level0\" >&nbsp;</th>\n",
       "      <th id=\"T_84db5_level0_col0\" class=\"col_heading level0 col0\" >conversion_rate</th>\n",
       "      <th id=\"T_84db5_level0_col1\" class=\"col_heading level0 col1\" >std_deviation</th>\n",
       "      <th id=\"T_84db5_level0_col2\" class=\"col_heading level0 col2\" >std_error</th>\n",
       "    </tr>\n",
       "    <tr>\n",
       "      <th class=\"index_name level0\" >variation</th>\n",
       "      <th class=\"blank col0\" >&nbsp;</th>\n",
       "      <th class=\"blank col1\" >&nbsp;</th>\n",
       "      <th class=\"blank col2\" >&nbsp;</th>\n",
       "    </tr>\n",
       "  </thead>\n",
       "  <tbody>\n",
       "    <tr>\n",
       "      <th id=\"T_84db5_level0_row0\" class=\"row_heading level0 row0\" >Control</th>\n",
       "      <td id=\"T_84db5_row0_col0\" class=\"data row0 col0\" >0.107</td>\n",
       "      <td id=\"T_84db5_row0_col1\" class=\"data row0 col1\" >0.309</td>\n",
       "      <td id=\"T_84db5_row0_col2\" class=\"data row0 col2\" >0.003</td>\n",
       "    </tr>\n",
       "    <tr>\n",
       "      <th id=\"T_84db5_level0_row1\" class=\"row_heading level0 row1\" >Var 3</th>\n",
       "      <td id=\"T_84db5_row1_col0\" class=\"data row1 col0\" >0.113</td>\n",
       "      <td id=\"T_84db5_row1_col1\" class=\"data row1 col1\" >0.316</td>\n",
       "      <td id=\"T_84db5_row1_col2\" class=\"data row1 col2\" >0.003</td>\n",
       "    </tr>\n",
       "  </tbody>\n",
       "</table>\n"
      ],
      "text/plain": [
       "<pandas.io.formats.style.Styler at 0x1622d13e010>"
      ]
     },
     "execution_count": 13,
     "metadata": {},
     "output_type": "execute_result"
    }
   ],
   "source": [
    "conversion_rate_var3_con.style.format('{:.3f}')"
   ]
  },
  {
   "cell_type": "markdown",
   "id": "c59371dc-67e7-41e7-9128-55efa754d494",
   "metadata": {},
   "source": [
    "The tables above shows that all three variations bring forward movement to more conversions. <b>There is an increase of 0.6% using Var 1, 1.3% using Var 2, and 0.7% using Var 3</b>. Plotting the data will help describe the results."
   ]
  },
  {
   "cell_type": "markdown",
   "id": "f7aed15f-6525-40b9-ba91-1f1c6ef9cb1e",
   "metadata": {},
   "source": [
    "## Figure 1: Var 1 vs Control Group (Bar Plot)"
   ]
  },
  {
   "cell_type": "code",
   "execution_count": 14,
   "id": "215455fb-c801-4fde-9705-764ad56fa3ec",
   "metadata": {},
   "outputs": [
    {
     "name": "stderr",
     "output_type": "stream",
     "text": [
      "C:\\Users\\User\\AppData\\Local\\Temp\\ipykernel_4008\\3513380309.py:3: FutureWarning: \n",
      "\n",
      "The `ci` parameter is deprecated. Use `errorbar=('ci', False)` for the same effect.\n",
      "\n",
      "  sns.barplot(x=ab_var1_con['variation'], y=ab_var1_con['converted'], ci=False)\n"
     ]
    },
    {
     "data": {
      "text/plain": [
       "Text(0, 0.5, 'Converted (proportion)')"
      ]
     },
     "execution_count": 14,
     "metadata": {},
     "output_type": "execute_result"
    },
    {
     "data": {
      "image/png": "[encoded data removed]",
      "text/plain": [
       "<Figure size 600x400 with 1 Axes>"
      ]
     },
     "metadata": {},
     "output_type": "display_data"
    }
   ],
   "source": [
    "plt.figure(figsize=(6,4))\n",
    "\n",
    "sns.barplot(x=ab_var1_con['variation'], y=ab_var1_con['converted'], ci=False)\n",
    "\n",
    "plt.ylim(0,0.15)\n",
    "plt.title('Conversion Rate by Group', pad=20)\n",
    "plt.xlabel('Variation', labelpad=15)\n",
    "plt.ylabel('Converted (proportion)', labelpad=15)"
   ]
  },
  {
   "cell_type": "markdown",
   "id": "5f10b97d-b83a-4889-a339-e6d04a7be1f9",
   "metadata": {},
   "source": [
    "## Figure 2: Var 2 vs Control Group (Bar Plot)"
   ]
  },
  {
   "cell_type": "code",
   "execution_count": 15,
   "id": "9e5378a1-e56a-410d-993c-ac62f7ac06e5",
   "metadata": {},
   "outputs": [
    {
     "name": "stderr",
     "output_type": "stream",
     "text": [
      "C:\\Users\\User\\AppData\\Local\\Temp\\ipykernel_4008\\4174007267.py:3: FutureWarning: \n",
      "\n",
      "The `ci` parameter is deprecated. Use `errorbar=('ci', False)` for the same effect.\n",
      "\n",
      "  sns.barplot(x=ab_var2_con['variation'], y=ab_var2_con['converted'], ci=False)\n"
     ]
    },
    {
     "data": {
      "text/plain": [
       "Text(0, 0.5, 'Converted (proportion)')"
      ]
     },
     "execution_count": 15,
     "metadata": {},
     "output_type": "execute_result"
    },
    {
     "data": {
      "image/png": "[encoded data removed]",
      "text/plain": [
       "<Figure size 600x400 with 1 Axes>"
      ]
     },
     "metadata": {},
     "output_type": "display_data"
    }
   ],
   "source": [
    "plt.figure(figsize=(6,4))\n",
    "\n",
    "sns.barplot(x=ab_var2_con['variation'], y=ab_var2_con['converted'], ci=False)\n",
    "\n",
    "plt.ylim(0,0.15)\n",
    "plt.title('Conversion Rate by Group', pad=20)\n",
    "plt.xlabel('Variation', labelpad=15)\n",
    "plt.ylabel('Converted (proportion)', labelpad=15)"
   ]
  },
  {
   "cell_type": "markdown",
   "id": "6ac26805-f0e0-45f3-9ac5-9a506aa61c3a",
   "metadata": {},
   "source": [
    "## Figure 3: Var 3 vs Control Group (Bar Plot)"
   ]
  },
  {
   "cell_type": "code",
   "execution_count": 16,
   "id": "3a852ee5-fbca-4552-8016-7a42a7711eb4",
   "metadata": {},
   "outputs": [
    {
     "name": "stderr",
     "output_type": "stream",
     "text": [
      "C:\\Users\\User\\AppData\\Local\\Temp\\ipykernel_4008\\3870555431.py:3: FutureWarning: \n",
      "\n",
      "The `ci` parameter is deprecated. Use `errorbar=('ci', False)` for the same effect.\n",
      "\n",
      "  sns.barplot(x=ab_var3_con['variation'], y=ab_var3_con['converted'], ci=False)\n"
     ]
    },
    {
     "data": {
      "text/plain": [
       "Text(0, 0.5, 'Converted (proportion)')"
      ]
     },
     "execution_count": 16,
     "metadata": {},
     "output_type": "execute_result"
    },
    {
     "data": {
      "image/png": "[encoded data removed]",
      "text/plain": [
       "<Figure size 600x400 with 1 Axes>"
      ]
     },
     "metadata": {},
     "output_type": "display_data"
    }
   ],
   "source": [
    "plt.figure(figsize=(6,4))\n",
    "\n",
    "sns.barplot(x=ab_var3_con['variation'], y=ab_var3_con['converted'], ci=False)\n",
    "\n",
    "plt.ylim(0,0.15)\n",
    "plt.title('Conversion Rate by Group', pad=20)\n",
    "plt.xlabel('Variation', labelpad=15)\n",
    "plt.ylabel('Converted (proportion)', labelpad=15)"
   ]
  },
  {
   "cell_type": "markdown",
   "id": "712d55eb-f8f4-4c2b-b9db-4e5e2e432bcb",
   "metadata": {},
   "source": [
    "As seen from the bar graphs above, the conversion rate of Var 2 looks more promising compared to the other two although all three variations sport increases on the conversion rates against the control group. <b>But are these increases statistically significant?</b>"
   ]
  },
  {
   "cell_type": "markdown",
   "id": "df7aac97-08c4-44ae-ac3a-0ecadf77b384",
   "metadata": {},
   "source": [
    "# 4. Testing the Hypothesis\n",
    "\n",
    "The details for the hypothesis have already been given above. A copy of that list is posted below.\n",
    "\n",
    "- Null Hypothesis: The conversion rate of (Var 1: Var 2: Var 3) is the same as the conversion rate of the control group\n",
    "- Alternative Hypothesis: The conversion rate of (Var 1: Var 2: Var 3) is better or worse than the conversion rate of the control group\n",
    "- Confidence level: 95%; Alpha: 0.05\n",
    "- Hypothesis Test: Two-Tailed Proportion\n",
    "- Approach: P-value"
   ]
  },
  {
   "cell_type": "markdown",
   "id": "da4200d6-d971-4948-b7ff-12aaca66199d",
   "metadata": {},
   "source": [
    "In order to calculate for the P-value, the utlization of the proportions_ztest and proportion_confint are considered."
   ]
  },
  {
   "cell_type": "code",
   "execution_count": 17,
   "id": "b079c2a9-8f5c-4f55-ac81-53fd9976ddc4",
   "metadata": {},
   "outputs": [
    {
     "name": "stdout",
     "output_type": "stream",
     "text": [
      "Z-Test Result for Var1/Control Group\n",
      "z statistic: -1.50\n",
      "p-value: 0.133\n",
      "ci 95% for control group: [0.101,0.113]\n",
      "ci 95% for Var 1 group: [0.108.0.120]\n"
     ]
    }
   ],
   "source": [
    "#Calculation using the Z-Test for Var 1/Control Group\n",
    "var1_results = var1_df['converted']\n",
    "con_results = control_df['converted']\n",
    "\n",
    "n_con = con_results.count()\n",
    "n_var1 = var1_results.count()\n",
    "\n",
    "successes = [con_results.sum(),var1_results.sum()]\n",
    "nobs = [n_con,n_var1]\n",
    "\n",
    "z_stat, pval = proportions_ztest(successes, nobs=nobs)\n",
    "(lower_con,lower_var1),(upper_con,upper_var1) = proportion_confint(successes, nobs=nobs, alpha=0.05)\n",
    "\n",
    "print('Z-Test Result for Var1/Control Group')\n",
    "print(f'z statistic: {z_stat:.2f}')\n",
    "print(f'p-value: {pval:.3f}')\n",
    "print(f'ci 95% for control group: [{lower_con:.3f},{upper_con:.3f}]')\n",
    "print(f'ci 95% for Var 1 group: [{lower_var1:.3f}.{upper_var1:.3f}]')"
   ]
  },
  {
   "cell_type": "code",
   "execution_count": 18,
   "id": "b377f386-da58-40d1-920d-b702a8772fb8",
   "metadata": {},
   "outputs": [
    {
     "name": "stdout",
     "output_type": "stream",
     "text": [
      "Z-Test Result for Var2/Control Group\n",
      "z statistic: -2.90\n",
      "p-value: 0.004\n",
      "ci 95% for control group: [0.101,0.113]\n",
      "ci 95% for Var 2 group: [0.114.0.126]\n"
     ]
    }
   ],
   "source": [
    "#Calculation using the Z-Test for Var 2/Control Group\n",
    "var2_results = var2_df['converted']\n",
    "con_results = control_df['converted']\n",
    "\n",
    "n_con = con_results.count()\n",
    "n_var2 = var2_results.count()\n",
    "\n",
    "successes = [con_results.sum(),var2_results.sum()]\n",
    "nobs = [n_con,n_var2]\n",
    "\n",
    "z_stat, pval = proportions_ztest(successes, nobs=nobs)\n",
    "(lower_con,lower_var2),(upper_con,upper_var2) = proportion_confint(successes, nobs=nobs, alpha=0.05)\n",
    "\n",
    "print('Z-Test Result for Var2/Control Group')\n",
    "print(f'z statistic: {z_stat:.2f}')\n",
    "print(f'p-value: {pval:.3f}')\n",
    "print(f'ci 95% for control group: [{lower_con:.3f},{upper_con:.3f}]')\n",
    "print(f'ci 95% for Var 2 group: [{lower_var2:.3f}.{upper_var2:.3f}]')"
   ]
  },
  {
   "cell_type": "code",
   "execution_count": 19,
   "id": "ce5d9c7c-f155-481a-be9b-cc7310d39278",
   "metadata": {},
   "outputs": [
    {
     "name": "stdout",
     "output_type": "stream",
     "text": [
      "Z-Test Result for Var3/Control Group\n",
      "z statistic: -1.24\n",
      "p-value: 0.216\n",
      "ci 95% for control group: [0.101,0.113]\n",
      "ci 95% for Var 3 group: [0.106.0.119]\n"
     ]
    }
   ],
   "source": [
    "#Calculation using the Z-Test for Var 3/Control Group\n",
    "var3_results = var3_df['converted']\n",
    "con_results = control_df['converted']\n",
    "\n",
    "n_con = con_results.count()\n",
    "n_var3 = var3_results.count()\n",
    "\n",
    "successes = [con_results.sum(),var3_results.sum()]\n",
    "nobs = [n_con,n_var3]\n",
    "\n",
    "z_stat, pval = proportions_ztest(successes, nobs=nobs)\n",
    "(lower_con,lower_var3),(upper_con,upper_var3) = proportion_confint(successes, nobs=nobs, alpha=0.05)\n",
    "\n",
    "print('Z-Test Result for Var3/Control Group')\n",
    "print(f'z statistic: {z_stat:.2f}')\n",
    "print(f'p-value: {pval:.3f}')\n",
    "print(f'ci 95% for control group: [{lower_con:.3f},{upper_con:.3f}]')\n",
    "print(f'ci 95% for Var 3 group: [{lower_var3:.3f}.{upper_var3:.3f}]')"
   ]
  },
  {
   "cell_type": "markdown",
   "id": "cb92cfea-454f-46c8-8b7e-b7fa3ffcf01b",
   "metadata": {},
   "source": [
    "Running the Z-test on the three variations, each against the control group, the significance of each increase in conversion rate is shown. Looking at the results:\n",
    "- A/B Test on Var 1 and control group has a p-value of 0.133 which is way bigger than the alpha of 0.05. This means that we are to keep the Null Hypothesis.\n",
    "- A/B Test on Var 2 and control group has a p-value of 0.004 which is way smaller than the alpha of 0.05. This means that we are to reject the Null Hypothesis.\n",
    "- A/B Test on Var 3 and control group has a p-value of 0.216 which is also way bigger than the alpha of 0.05. This also means that we are to keep the Null Hypothesis.\n",
    "The confidence interval of Var 2 also proves that its conversion rate is beyond the confidence interval of the control group, which are both at 95%."
   ]
  },
  {
   "cell_type": "markdown",
   "id": "d3300f80-6da6-4591-84f9-3581c8398beb",
   "metadata": {},
   "source": [
    "# 5. Drawing Conclusions\n",
    "The data did not support the increases in conversion rates as statistically significant for the following variations:\n",
    "- New version of the landing page and new set of images\n",
    "- Old version of the landing page and new set of images\n",
    "Only one of the variations have a statistical significance in terms of conversion rate and is supported by the data analysed above. The Var 2 (New design of the landing page and old set of images) variation has a p-value of 0.004 which is way smaller than the alpha of 0.05. Thus, rejects the null hypothesis and supports the alternative hypothesis: <b>The conversion rate of Var 2 is better than the conversion rate of the control group</b>. As backed up by the statistics done over the data, we can affirm that the variation being affected by randomness or by chance is unlikely.\n",
    "\n",
    "Therefore, the company must proceed to use the new design of the landing page with the old set of images on the website.\n"
   ]
  }
 ],
 "metadata": {
  "kernelspec": {
   "display_name": "Python 3 (ipykernel)",
   "language": "python",
   "name": "python3"
  },
  "language_info": {
   "codemirror_mode": {
    "name": "ipython",
    "version": 3
   },
   "file_extension": ".py",
   "mimetype": "text/x-python",
   "name": "python",
   "nbconvert_exporter": "python",
   "pygments_lexer": "ipython3",
   "version": "3.11.7"
  }
 },
 "nbformat": 4,
 "nbformat_minor": 5
}
